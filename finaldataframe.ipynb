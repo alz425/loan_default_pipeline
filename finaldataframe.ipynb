{
 "cells": [
  {
   "cell_type": "markdown",
   "id": "33cd340f-a48e-4309-acc1-3bc38edf87df",
   "metadata": {},
   "source": [
    "# This File Takes the Raw 2013 Loan Data and Cleans it for the app.py Regression"
   ]
  },
  {
   "cell_type": "code",
   "execution_count": 1,
   "id": "d2ac94e0-a571-4654-ac6c-adf5a5c9e370",
   "metadata": {},
   "outputs": [],
   "source": [
    "import matplotlib.pyplot as plt\n",
    "import numpy as np\n",
    "import pandas as pd\n",
    "# from df_after_transform import df_after_transform\n",
    "from sklearn import set_config\n",
    "from sklearn.calibration import CalibrationDisplay\n",
    "from sklearn.compose import (\n",
    "    ColumnTransformer,\n",
    "    make_column_selector,\n",
    "    make_column_transformer,\n",
    ")\n",
    "from sklearn.decomposition import PCA\n",
    "from sklearn.ensemble import HistGradientBoostingClassifier, RandomForestClassifier\n",
    "from sklearn.feature_selection import (\n",
    "    RFECV,\n",
    "    SelectFromModel,\n",
    "    SelectKBest,\n",
    "    SequentialFeatureSelector,\n",
    "    f_classif,\n",
    ")\n",
    "from sklearn.impute import SimpleImputer\n",
    "from sklearn.linear_model import Lasso, LassoCV, LogisticRegression, Ridge\n",
    "from sklearn.metrics import (\n",
    "    ConfusionMatrixDisplay,\n",
    "    DetCurveDisplay,\n",
    "    PrecisionRecallDisplay,\n",
    "    RocCurveDisplay,\n",
    "    classification_report,\n",
    "    make_scorer,\n",
    ")\n",
    "from sklearn.model_selection import (\n",
    "    GridSearchCV,\n",
    "    KFold,\n",
    "    cross_validate,\n",
    "    train_test_split,\n",
    "    cross_val_score,\n",
    ")\n",
    "from sklearn.pipeline import Pipeline, make_pipeline\n",
    "from sklearn.preprocessing import (\n",
    "    OneHotEncoder,\n",
    "    OrdinalEncoder,\n",
    "    PolynomialFeatures,\n",
    "    StandardScaler,\n",
    "    MinMaxScaler,\n",
    "    KBinsDiscretizer,\n",
    ")\n",
    "from sklearn.svm import LinearSVC\n",
    "import streamlit as st\n"
   ]
  },
  {
   "cell_type": "code",
   "execution_count": 3,
   "id": "837b3a27-3d59-4244-a1b2-74a046c6ccbc",
   "metadata": {},
   "outputs": [],
   "source": [
    "loans = pd.read_csv(\"inputs/2013_subsample.zip\")"
   ]
  },
  {
   "cell_type": "code",
   "execution_count": 6,
   "id": "4a2edaaa-9a24-4cae-bccd-93992ee6bcca",
   "metadata": {},
   "outputs": [
    {
     "data": {
      "text/plain": [
       "(134804, 33)"
      ]
     },
     "execution_count": 6,
     "metadata": {},
     "output_type": "execute_result"
    }
   ],
   "source": [
    "loans.shape"
   ]
  },
  {
   "cell_type": "code",
   "execution_count": 8,
   "id": "ca812384-2c6b-4eff-9e5b-2e139b480c8b",
   "metadata": {},
   "outputs": [
    {
     "name": "stdout",
     "output_type": "stream",
     "text": [
      "<class 'pandas.core.frame.DataFrame'>\n",
      "RangeIndex: 134804 entries, 0 to 134803\n",
      "Data columns (total 33 columns):\n",
      " #   Column                Non-Null Count   Dtype  \n",
      "---  ------                --------------   -----  \n",
      " 0   id                    134804 non-null  int64  \n",
      " 1   member_id             0 non-null       float64\n",
      " 2   loan_status           134804 non-null  object \n",
      " 3   addr_state            134804 non-null  object \n",
      " 4   annual_inc            134804 non-null  float64\n",
      " 5   application_type      134804 non-null  object \n",
      " 6   desc                  48728 non-null   object \n",
      " 7   dti                   134804 non-null  float64\n",
      " 8   earliest_cr_line      134804 non-null  object \n",
      " 9   emp_length            128842 non-null  object \n",
      " 10  emp_title             126239 non-null  object \n",
      " 11  fico_range_high       134804 non-null  float64\n",
      " 12  fico_range_low        134804 non-null  float64\n",
      " 13  grade                 134804 non-null  object \n",
      " 14  home_ownership        134804 non-null  object \n",
      " 15  initial_list_status   134804 non-null  object \n",
      " 16  installment           134804 non-null  float64\n",
      " 17  int_rate              134804 non-null  float64\n",
      " 18  issue_d               134804 non-null  object \n",
      " 19  loan_amnt             134804 non-null  float64\n",
      " 20  mort_acc              134804 non-null  float64\n",
      " 21  open_acc              134804 non-null  float64\n",
      " 22  pub_rec               134804 non-null  float64\n",
      " 23  pub_rec_bankruptcies  134804 non-null  float64\n",
      " 24  purpose               134804 non-null  object \n",
      " 25  revol_bal             134804 non-null  float64\n",
      " 26  revol_util            134726 non-null  float64\n",
      " 27  sub_grade             134804 non-null  object \n",
      " 28  term                  134804 non-null  object \n",
      " 29  title                 134798 non-null  object \n",
      " 30  total_acc             134804 non-null  float64\n",
      " 31  verification_status   134804 non-null  object \n",
      " 32  zip_code              134804 non-null  object \n",
      "dtypes: float64(15), int64(1), object(17)\n",
      "memory usage: 33.9+ MB\n"
     ]
    }
   ],
   "source": [
    "loans.info() # changing num_pipe_features from number to float64 to eliminate id as an option"
   ]
  },
  {
   "cell_type": "markdown",
   "id": "03e58eae-4bb4-4dcb-a28b-e5672b89844f",
   "metadata": {},
   "source": [
    "## Omitted Columns ##\n",
    "- **application_type**\n",
    "    - all values are 'individual', so this variable doesn't provide any meaningful insights\n",
    "- **desc**\n",
    "    - There are 86,076 null fields and the existing data is not useful for this project\n",
    "- **emp_title**\n",
    "    - There are 83,424 unique values and it is a categorical variable\n",
    "    - There are 8565 null fields\n",
    "- **title**\n",
    "    - There are 32325 different values "
   ]
  },
  {
   "cell_type": "code",
   "execution_count": 12,
   "id": "5791fb1d-c381-4da3-9e21-f0b3cf0f99aa",
   "metadata": {},
   "outputs": [],
   "source": [
    "loans = loans.drop(['application_type', 'desc', 'emp_title', 'title', 'id', 'member_id'], axis=1)"
   ]
  },
  {
   "cell_type": "code",
   "execution_count": 13,
   "id": "1e102dd9-0b0e-45f4-99ec-7879aee34de5",
   "metadata": {},
   "outputs": [
    {
     "data": {
      "text/plain": [
       "(134804, 27)"
      ]
     },
     "execution_count": 13,
     "metadata": {},
     "output_type": "execute_result"
    }
   ],
   "source": [
    "loans.shape"
   ]
  },
  {
   "cell_type": "code",
   "execution_count": null,
   "id": "1e55885e-4abe-40d6-be26-ae0de25db477",
   "metadata": {},
   "outputs": [],
   "source": []
  }
 ],
 "metadata": {
  "kernelspec": {
   "display_name": "Python 3 (ipykernel)",
   "language": "python",
   "name": "python3"
  },
  "language_info": {
   "codemirror_mode": {
    "name": "ipython",
    "version": 3
   },
   "file_extension": ".py",
   "mimetype": "text/x-python",
   "name": "python",
   "nbconvert_exporter": "python",
   "pygments_lexer": "ipython3",
   "version": "3.11.7"
  }
 },
 "nbformat": 4,
 "nbformat_minor": 5
}
