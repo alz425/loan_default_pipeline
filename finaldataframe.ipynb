{
 "cells": [
  {
   "cell_type": "markdown",
   "id": "33cd340f-a48e-4309-acc1-3bc38edf87df",
   "metadata": {},
   "source": [
    "# This File Takes the Raw 2013 Loan Data and Cleans it for the app.py Regression"
   ]
  },
  {
   "cell_type": "code",
   "execution_count": 1,
   "id": "d2ac94e0-a571-4654-ac6c-adf5a5c9e370",
   "metadata": {},
   "outputs": [],
   "source": [
    "import matplotlib.pyplot as plt\n",
    "import numpy as np\n",
    "import pandas as pd\n",
    "# from df_after_transform import df_after_transform\n",
    "from sklearn import set_config\n",
    "from sklearn.calibration import CalibrationDisplay\n",
    "from sklearn.compose import (\n",
    "    ColumnTransformer,\n",
    "    make_column_selector,\n",
    "    make_column_transformer,\n",
    ")\n",
    "from sklearn.decomposition import PCA\n",
    "from sklearn.ensemble import HistGradientBoostingClassifier, RandomForestClassifier\n",
    "from sklearn.feature_selection import (\n",
    "    RFECV,\n",
    "    SelectFromModel,\n",
    "    SelectKBest,\n",
    "    SequentialFeatureSelector,\n",
    "    f_classif,\n",
    ")\n",
    "from sklearn.impute import SimpleImputer\n",
    "from sklearn.linear_model import Lasso, LassoCV, LogisticRegression, Ridge\n",
    "from sklearn.metrics import (\n",
    "    ConfusionMatrixDisplay,\n",
    "    DetCurveDisplay,\n",
    "    PrecisionRecallDisplay,\n",
    "    RocCurveDisplay,\n",
    "    classification_report,\n",
    "    make_scorer,\n",
    ")\n",
    "from sklearn.model_selection import (\n",
    "    GridSearchCV,\n",
    "    KFold,\n",
    "    cross_validate,\n",
    "    train_test_split,\n",
    "    cross_val_score,\n",
    ")\n",
    "from sklearn.pipeline import Pipeline, make_pipeline\n",
    "from sklearn.preprocessing import (\n",
    "    OneHotEncoder,\n",
    "    OrdinalEncoder,\n",
    "    PolynomialFeatures,\n",
    "    StandardScaler,\n",
    "    MinMaxScaler,\n",
    "    KBinsDiscretizer,\n",
    ")\n",
    "from sklearn.svm import LinearSVC\n",
    "import streamlit as st\n"
   ]
  },
  {
   "cell_type": "code",
   "execution_count": 2,
   "id": "837b3a27-3d59-4244-a1b2-74a046c6ccbc",
   "metadata": {},
   "outputs": [],
   "source": [
    "loans = pd.read_csv(\"inputs/2013_subsample.zip\")"
   ]
  },
  {
   "cell_type": "code",
   "execution_count": 3,
   "id": "4a2edaaa-9a24-4cae-bccd-93992ee6bcca",
   "metadata": {},
   "outputs": [
    {
     "data": {
      "text/plain": [
       "(134804, 33)"
      ]
     },
     "execution_count": 3,
     "metadata": {},
     "output_type": "execute_result"
    }
   ],
   "source": [
    "loans.shape"
   ]
  },
  {
   "cell_type": "code",
   "execution_count": 4,
   "id": "ca812384-2c6b-4eff-9e5b-2e139b480c8b",
   "metadata": {},
   "outputs": [
    {
     "name": "stdout",
     "output_type": "stream",
     "text": [
      "<class 'pandas.core.frame.DataFrame'>\n",
      "RangeIndex: 134804 entries, 0 to 134803\n",
      "Data columns (total 33 columns):\n",
      " #   Column                Non-Null Count   Dtype  \n",
      "---  ------                --------------   -----  \n",
      " 0   id                    134804 non-null  int64  \n",
      " 1   member_id             0 non-null       float64\n",
      " 2   loan_status           134804 non-null  object \n",
      " 3   addr_state            134804 non-null  object \n",
      " 4   annual_inc            134804 non-null  float64\n",
      " 5   application_type      134804 non-null  object \n",
      " 6   desc                  48728 non-null   object \n",
      " 7   dti                   134804 non-null  float64\n",
      " 8   earliest_cr_line      134804 non-null  object \n",
      " 9   emp_length            128842 non-null  object \n",
      " 10  emp_title             126239 non-null  object \n",
      " 11  fico_range_high       134804 non-null  float64\n",
      " 12  fico_range_low        134804 non-null  float64\n",
      " 13  grade                 134804 non-null  object \n",
      " 14  home_ownership        134804 non-null  object \n",
      " 15  initial_list_status   134804 non-null  object \n",
      " 16  installment           134804 non-null  float64\n",
      " 17  int_rate              134804 non-null  float64\n",
      " 18  issue_d               134804 non-null  object \n",
      " 19  loan_amnt             134804 non-null  float64\n",
      " 20  mort_acc              134804 non-null  float64\n",
      " 21  open_acc              134804 non-null  float64\n",
      " 22  pub_rec               134804 non-null  float64\n",
      " 23  pub_rec_bankruptcies  134804 non-null  float64\n",
      " 24  purpose               134804 non-null  object \n",
      " 25  revol_bal             134804 non-null  float64\n",
      " 26  revol_util            134726 non-null  float64\n",
      " 27  sub_grade             134804 non-null  object \n",
      " 28  term                  134804 non-null  object \n",
      " 29  title                 134798 non-null  object \n",
      " 30  total_acc             134804 non-null  float64\n",
      " 31  verification_status   134804 non-null  object \n",
      " 32  zip_code              134804 non-null  object \n",
      "dtypes: float64(15), int64(1), object(17)\n",
      "memory usage: 33.9+ MB\n"
     ]
    }
   ],
   "source": [
    "loans.info() # changing num_pipe_features from number to float64 to eliminate id as an option"
   ]
  },
  {
   "cell_type": "markdown",
   "id": "03e58eae-4bb4-4dcb-a28b-e5672b89844f",
   "metadata": {},
   "source": [
    "## Omitted Columns ##\n",
    "- **application_type**\n",
    "    - all values are 'individual', so this variable doesn't provide any meaningful insights\n",
    "- **desc**\n",
    "    - There are 86,076 null fields and the existing data is not useful for this project\n",
    "- **emp_title**\n",
    "    - There are 83,424 unique values and it is a categorical variable\n",
    "    - There are 8565 null fields\n",
    "- **title**\n",
    "    - There are 32,325 unique values and it is a categorical variable\n",
    "    - Similar variable to purpose, which is consistently entered between 13 values\n",
    "- **member_id**\n",
    "    - all null values"
   ]
  },
  {
   "cell_type": "code",
   "execution_count": 5,
   "id": "5791fb1d-c381-4da3-9e21-f0b3cf0f99aa",
   "metadata": {},
   "outputs": [],
   "source": [
    "loans = loans.drop(['application_type', 'desc', 'emp_title', 'title', 'member_id'], axis=1)"
   ]
  },
  {
   "cell_type": "code",
   "execution_count": 6,
   "id": "1e102dd9-0b0e-45f4-99ec-7879aee34de5",
   "metadata": {},
   "outputs": [
    {
     "data": {
      "text/plain": [
       "(134804, 28)"
      ]
     },
     "execution_count": 6,
     "metadata": {},
     "output_type": "execute_result"
    }
   ],
   "source": [
    "loans.shape"
   ]
  },
  {
   "cell_type": "markdown",
   "id": "e4366707-c7e0-49a0-948e-1852897835f5",
   "metadata": {},
   "source": [
    "## Categorical Variables Converted to Numerical Variables ##\n",
    "- **earliest_cr_line**\n",
    "    - Entries are not numerical (ex. Sep-2003, Nov-1997)\n",
    "    - Converting to numerical format (ex. 200309, 199711)\n",
    "        - This gives models a quantitative way to interpret credit history\n",
    "        - creates incremental issue between new years (ex. 200312 -> 200401)\n",
    "        - instead: month number * 100/12\n",
    "            - Jan - 0\n",
    "            - Feb - 8.3333\n",
    "            - Mar - 16.6667\n",
    "            - Apr - 25\n",
    "            - May - 33.3333\n",
    "            - Jun - 41.6667\n",
    "            - Jul - 50\n",
    "            - Aug - 58.3333\n",
    "            - Sep - 66.6667\n",
    "            - Oct - 75\n",
    "            - Nov - 83.3333\n",
    "            - Dec - 91.6667\n",
    "- **emp_length**\n",
    "    - Entries are not numerical (ex. 4 years, 10+ years)\n",
    "    - Converting to numerical format (ex. 4, 10)\n",
    "        - This gives models a way to interpret employment length numerically rather than arbitrary categories\n",
    "        - While 10 doesn't account for employment lengths beyond 10 years, it is the best way to quantify this data"
   ]
  },
  {
   "cell_type": "code",
   "execution_count": 7,
   "id": "1e55885e-4abe-40d6-be26-ae0de25db477",
   "metadata": {},
   "outputs": [
    {
     "name": "stdout",
     "output_type": "stream",
     "text": [
      "<class 'pandas.core.frame.DataFrame'>\n",
      "RangeIndex: 134804 entries, 0 to 134803\n",
      "Data columns (total 2 columns):\n",
      " #   Column            Non-Null Count   Dtype \n",
      "---  ------            --------------   ----- \n",
      " 0   earliest_cr_line  134804 non-null  object\n",
      " 1   emp_length        128842 non-null  object\n",
      "dtypes: object(2)\n",
      "memory usage: 2.1+ MB\n"
     ]
    }
   ],
   "source": [
    "loans[['earliest_cr_line', 'emp_length']].info()"
   ]
  },
  {
   "cell_type": "code",
   "execution_count": 8,
   "id": "dcef4aa5-cf94-41a4-b3da-1c543fda1989",
   "metadata": {},
   "outputs": [
    {
     "data": {
      "text/html": [
       "<div>\n",
       "<style scoped>\n",
       "    .dataframe tbody tr th:only-of-type {\n",
       "        vertical-align: middle;\n",
       "    }\n",
       "\n",
       "    .dataframe tbody tr th {\n",
       "        vertical-align: top;\n",
       "    }\n",
       "\n",
       "    .dataframe thead th {\n",
       "        text-align: right;\n",
       "    }\n",
       "</style>\n",
       "<table border=\"1\" class=\"dataframe\">\n",
       "  <thead>\n",
       "    <tr style=\"text-align: right;\">\n",
       "      <th></th>\n",
       "      <th>earliest_cr_line</th>\n",
       "      <th>emp_length</th>\n",
       "    </tr>\n",
       "  </thead>\n",
       "  <tbody>\n",
       "    <tr>\n",
       "      <th>0</th>\n",
       "      <td>Sep-2003</td>\n",
       "      <td>3 years</td>\n",
       "    </tr>\n",
       "    <tr>\n",
       "      <th>1</th>\n",
       "      <td>Oct-1986</td>\n",
       "      <td>10+ years</td>\n",
       "    </tr>\n",
       "    <tr>\n",
       "      <th>2</th>\n",
       "      <td>Nov-1997</td>\n",
       "      <td>10+ years</td>\n",
       "    </tr>\n",
       "    <tr>\n",
       "      <th>3</th>\n",
       "      <td>Nov-1994</td>\n",
       "      <td>5 years</td>\n",
       "    </tr>\n",
       "    <tr>\n",
       "      <th>4</th>\n",
       "      <td>Dec-2009</td>\n",
       "      <td>4 years</td>\n",
       "    </tr>\n",
       "    <tr>\n",
       "      <th>...</th>\n",
       "      <td>...</td>\n",
       "      <td>...</td>\n",
       "    </tr>\n",
       "    <tr>\n",
       "      <th>134799</th>\n",
       "      <td>Aug-1997</td>\n",
       "      <td>10+ years</td>\n",
       "    </tr>\n",
       "    <tr>\n",
       "      <th>134800</th>\n",
       "      <td>Jun-1991</td>\n",
       "      <td>1 year</td>\n",
       "    </tr>\n",
       "    <tr>\n",
       "      <th>134801</th>\n",
       "      <td>May-1990</td>\n",
       "      <td>10+ years</td>\n",
       "    </tr>\n",
       "    <tr>\n",
       "      <th>134802</th>\n",
       "      <td>Aug-2000</td>\n",
       "      <td>9 years</td>\n",
       "    </tr>\n",
       "    <tr>\n",
       "      <th>134803</th>\n",
       "      <td>Jul-1999</td>\n",
       "      <td>10+ years</td>\n",
       "    </tr>\n",
       "  </tbody>\n",
       "</table>\n",
       "<p>134804 rows × 2 columns</p>\n",
       "</div>"
      ],
      "text/plain": [
       "       earliest_cr_line emp_length\n",
       "0              Sep-2003    3 years\n",
       "1              Oct-1986  10+ years\n",
       "2              Nov-1997  10+ years\n",
       "3              Nov-1994    5 years\n",
       "4              Dec-2009    4 years\n",
       "...                 ...        ...\n",
       "134799         Aug-1997  10+ years\n",
       "134800         Jun-1991     1 year\n",
       "134801         May-1990  10+ years\n",
       "134802         Aug-2000    9 years\n",
       "134803         Jul-1999  10+ years\n",
       "\n",
       "[134804 rows x 2 columns]"
      ]
     },
     "execution_count": 8,
     "metadata": {},
     "output_type": "execute_result"
    }
   ],
   "source": [
    "loans[['earliest_cr_line', 'emp_length']]"
   ]
  },
  {
   "cell_type": "code",
   "execution_count": 9,
   "id": "05563979-4cc0-4f3e-b519-48d57d6ffdcf",
   "metadata": {},
   "outputs": [
    {
     "name": "stderr",
     "output_type": "stream",
     "text": [
      "C:\\Users\\mason\\AppData\\Local\\Temp\\ipykernel_15088\\3942494319.py:1: UserWarning: Could not infer format, so each element will be parsed individually, falling back to `dateutil`. To ensure parsing is consistent and as-expected, please specify a format.\n",
      "  loans['earliest_cr_line'] = pd.to_datetime(loans['earliest_cr_line'])\n"
     ]
    }
   ],
   "source": [
    "loans['earliest_cr_line'] = pd.to_datetime(loans['earliest_cr_line'])\n",
    "loans['earliest_cr_line'] = loans['earliest_cr_line'].dt.year + ((loans['earliest_cr_line'].dt.month * 100/12 - 100/12).round(4) / 100)\n",
    "\n",
    "loans['emp_length'] = loans['emp_length'].astype(str)\n",
    "loans['emp_length'] = loans['emp_length'].replace({'< 1 year': '0 years'}, regex=True)\n",
    "loans['emp_length'] = loans['emp_length'].str.extract('(\\d+)')[0].astype(float)\n",
    "\n"
   ]
  },
  {
   "cell_type": "code",
   "execution_count": 10,
   "id": "567edd17-0ed1-4da7-88d2-8cc8d0b589ef",
   "metadata": {},
   "outputs": [
    {
     "name": "stdout",
     "output_type": "stream",
     "text": [
      "<class 'pandas.core.frame.DataFrame'>\n",
      "RangeIndex: 134804 entries, 0 to 134803\n",
      "Data columns (total 2 columns):\n",
      " #   Column            Non-Null Count   Dtype  \n",
      "---  ------            --------------   -----  \n",
      " 0   earliest_cr_line  134804 non-null  float64\n",
      " 1   emp_length        128842 non-null  float64\n",
      "dtypes: float64(2)\n",
      "memory usage: 2.1 MB\n"
     ]
    }
   ],
   "source": [
    "loans[['earliest_cr_line', 'emp_length']].info()"
   ]
  },
  {
   "cell_type": "code",
   "execution_count": 11,
   "id": "e11dfe06-ef6d-4f68-bb50-7375e011878f",
   "metadata": {},
   "outputs": [
    {
     "data": {
      "text/html": [
       "<div>\n",
       "<style scoped>\n",
       "    .dataframe tbody tr th:only-of-type {\n",
       "        vertical-align: middle;\n",
       "    }\n",
       "\n",
       "    .dataframe tbody tr th {\n",
       "        vertical-align: top;\n",
       "    }\n",
       "\n",
       "    .dataframe thead th {\n",
       "        text-align: right;\n",
       "    }\n",
       "</style>\n",
       "<table border=\"1\" class=\"dataframe\">\n",
       "  <thead>\n",
       "    <tr style=\"text-align: right;\">\n",
       "      <th></th>\n",
       "      <th>earliest_cr_line</th>\n",
       "      <th>emp_length</th>\n",
       "    </tr>\n",
       "  </thead>\n",
       "  <tbody>\n",
       "    <tr>\n",
       "      <th>0</th>\n",
       "      <td>2003.666667</td>\n",
       "      <td>3.0</td>\n",
       "    </tr>\n",
       "    <tr>\n",
       "      <th>1</th>\n",
       "      <td>1986.750000</td>\n",
       "      <td>10.0</td>\n",
       "    </tr>\n",
       "    <tr>\n",
       "      <th>2</th>\n",
       "      <td>1997.833333</td>\n",
       "      <td>10.0</td>\n",
       "    </tr>\n",
       "    <tr>\n",
       "      <th>3</th>\n",
       "      <td>1994.833333</td>\n",
       "      <td>5.0</td>\n",
       "    </tr>\n",
       "    <tr>\n",
       "      <th>4</th>\n",
       "      <td>2009.916667</td>\n",
       "      <td>4.0</td>\n",
       "    </tr>\n",
       "    <tr>\n",
       "      <th>...</th>\n",
       "      <td>...</td>\n",
       "      <td>...</td>\n",
       "    </tr>\n",
       "    <tr>\n",
       "      <th>134799</th>\n",
       "      <td>1997.583333</td>\n",
       "      <td>10.0</td>\n",
       "    </tr>\n",
       "    <tr>\n",
       "      <th>134800</th>\n",
       "      <td>1991.416667</td>\n",
       "      <td>1.0</td>\n",
       "    </tr>\n",
       "    <tr>\n",
       "      <th>134801</th>\n",
       "      <td>1990.333333</td>\n",
       "      <td>10.0</td>\n",
       "    </tr>\n",
       "    <tr>\n",
       "      <th>134802</th>\n",
       "      <td>2000.583333</td>\n",
       "      <td>9.0</td>\n",
       "    </tr>\n",
       "    <tr>\n",
       "      <th>134803</th>\n",
       "      <td>1999.500000</td>\n",
       "      <td>10.0</td>\n",
       "    </tr>\n",
       "  </tbody>\n",
       "</table>\n",
       "<p>134804 rows × 2 columns</p>\n",
       "</div>"
      ],
      "text/plain": [
       "        earliest_cr_line  emp_length\n",
       "0            2003.666667         3.0\n",
       "1            1986.750000        10.0\n",
       "2            1997.833333        10.0\n",
       "3            1994.833333         5.0\n",
       "4            2009.916667         4.0\n",
       "...                  ...         ...\n",
       "134799       1997.583333        10.0\n",
       "134800       1991.416667         1.0\n",
       "134801       1990.333333        10.0\n",
       "134802       2000.583333         9.0\n",
       "134803       1999.500000        10.0\n",
       "\n",
       "[134804 rows x 2 columns]"
      ]
     },
     "execution_count": 11,
     "metadata": {},
     "output_type": "execute_result"
    }
   ],
   "source": [
    "loans[['earliest_cr_line', 'emp_length']]"
   ]
  },
  {
   "cell_type": "code",
   "execution_count": 12,
   "id": "1d5273a0-a085-4636-bbfb-9612e8f3f047",
   "metadata": {},
   "outputs": [],
   "source": [
    "loans.to_csv('inputs/final_2013_subsample.csv', index=False)"
   ]
  },
  {
   "cell_type": "markdown",
   "id": "5b70be37-ff30-44eb-9ecc-28db451b0f13",
   "metadata": {},
   "source": [
    "## Final Note ##\n",
    "\n",
    "**emp_length (5962) and revol_util (78) have missing values, and should be included in the dashboard with warnings, as they only represent 4.4227% and 0.0579% of the observations respectively**\n"
   ]
  },
  {
   "cell_type": "code",
   "execution_count": 13,
   "id": "3fb0cb3c-3540-46fc-ad3a-f7f522eef01e",
   "metadata": {},
   "outputs": [
    {
     "data": {
      "text/plain": [
       "id                         0\n",
       "loan_status                0\n",
       "addr_state                 0\n",
       "annual_inc                 0\n",
       "dti                        0\n",
       "earliest_cr_line           0\n",
       "emp_length              5962\n",
       "fico_range_high            0\n",
       "fico_range_low             0\n",
       "grade                      0\n",
       "home_ownership             0\n",
       "initial_list_status        0\n",
       "installment                0\n",
       "int_rate                   0\n",
       "issue_d                    0\n",
       "loan_amnt                  0\n",
       "mort_acc                   0\n",
       "open_acc                   0\n",
       "pub_rec                    0\n",
       "pub_rec_bankruptcies       0\n",
       "purpose                    0\n",
       "revol_bal                  0\n",
       "revol_util                78\n",
       "sub_grade                  0\n",
       "term                       0\n",
       "total_acc                  0\n",
       "verification_status        0\n",
       "zip_code                   0\n",
       "dtype: int64"
      ]
     },
     "execution_count": 13,
     "metadata": {},
     "output_type": "execute_result"
    }
   ],
   "source": [
    "loans.isnull().sum()"
   ]
  }
 ],
 "metadata": {
  "kernelspec": {
   "display_name": "Python 3 (ipykernel)",
   "language": "python",
   "name": "python3"
  },
  "language_info": {
   "codemirror_mode": {
    "name": "ipython",
    "version": 3
   },
   "file_extension": ".py",
   "mimetype": "text/x-python",
   "name": "python",
   "nbconvert_exporter": "python",
   "pygments_lexer": "ipython3",
   "version": "3.10.14"
  }
 },
 "nbformat": 4,
 "nbformat_minor": 5
}
